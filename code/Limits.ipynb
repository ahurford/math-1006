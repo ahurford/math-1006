{
 "cells": [
  {
   "cell_type": "markdown",
   "id": "8bde2ef9",
   "metadata": {},
   "source": [
    "This file has Sage Math code that can solve limit problems. As a Computer Algebra System Sage Math can solve these types of problems more easily than Python or R.\n",
    "\n",
    "Let's say we want to calculuate $\\lim_{x \\to 1} \\frac{x^2-1}{x-1}$"
   ]
  },
  {
   "cell_type": "code",
   "execution_count": 2,
   "id": "6826bb42",
   "metadata": {},
   "outputs": [
    {
     "data": {
      "text/plain": [
       "2"
      ]
     },
     "execution_count": 2,
     "metadata": {},
     "output_type": "execute_result"
    }
   ],
   "source": [
    "limit((x^2 - 1)/(x - 1), x=1)"
   ]
  },
  {
   "cell_type": "markdown",
   "id": "719c8bcb",
   "metadata": {},
   "source": [
    "From class and the textbooks, you might remember that this problem is solved by [factoring the numerator](https://www.sagemath.org/calctut/limits.html).\n",
    "\n",
    "You can ask about other limits too, e.g.\n",
    "\n",
    "$\\lim_{x \\to 0} \\frac{1}{|x|}$ or\n",
    "\n",
    "$\\lim_{x \\to \\infty} sin(x)$\n",
    "\n",
    "$\\lim_{x \\to 0} x^2 \\ sin(x)$\n",
    "\n",
    "(note this limit can be calculated using the squeeze theorem with $g(x) = x^2$ and $h(x) = -x^2$)"
   ]
  },
  {
   "cell_type": "code",
   "execution_count": 18,
   "id": "08753c77",
   "metadata": {},
   "outputs": [
    {
     "data": {
      "text/plain": [
       "+Infinity"
      ]
     },
     "execution_count": 18,
     "metadata": {},
     "output_type": "execute_result"
    }
   ],
   "source": [
    "limit(1/abs(x), x=0)"
   ]
  },
  {
   "cell_type": "code",
   "execution_count": 23,
   "id": "f6fc5b4f",
   "metadata": {},
   "outputs": [
    {
     "data": {
      "text/plain": [
       "ind"
      ]
     },
     "execution_count": 23,
     "metadata": {},
     "output_type": "execute_result"
    }
   ],
   "source": [
    "limit(sin(x),x=infinity)"
   ]
  },
  {
   "cell_type": "code",
   "execution_count": 31,
   "id": "04086d33",
   "metadata": {},
   "outputs": [
    {
     "data": {
      "text/plain": [
       "0"
      ]
     },
     "execution_count": 31,
     "metadata": {},
     "output_type": "execute_result"
    }
   ],
   "source": [
    "limit(x^2*sin(x),x=0)"
   ]
  }
 ],
 "metadata": {
  "kernelspec": {
   "display_name": "SageMath 10.2",
   "language": "sage",
   "name": "sagemath"
  },
  "language_info": {
   "codemirror_mode": {
    "name": "ipython",
    "version": 3
   },
   "file_extension": ".py",
   "mimetype": "text/x-python",
   "name": "python",
   "nbconvert_exporter": "python",
   "pygments_lexer": "ipython3",
   "version": "3.11.1"
  }
 },
 "nbformat": 4,
 "nbformat_minor": 5
}
