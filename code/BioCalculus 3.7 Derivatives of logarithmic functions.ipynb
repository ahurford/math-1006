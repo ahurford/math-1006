{
 "cells": [
  {
   "cell_type": "markdown",
   "id": "d3da7e59",
   "metadata": {},
   "source": [
    "Problem 2. p229 of Stewart and Day"
   ]
  },
  {
   "cell_type": "code",
   "execution_count": 7,
   "id": "4074c744",
   "metadata": {},
   "outputs": [
    {
     "data": {
      "text/plain": [
       "log(x)"
      ]
     },
     "execution_count": 7,
     "metadata": {},
     "output_type": "execute_result"
    }
   ],
   "source": [
    "diff(x*ln(x) - x)"
   ]
  },
  {
   "cell_type": "markdown",
   "id": "610b245a",
   "metadata": {},
   "source": [
    "Problem 4."
   ]
  },
  {
   "cell_type": "code",
   "execution_count": 8,
   "id": "cd3b8d6a",
   "metadata": {},
   "outputs": [
    {
     "data": {
      "text/plain": [
       "2*cos(x)/sin(x)"
      ]
     },
     "execution_count": 8,
     "metadata": {},
     "output_type": "execute_result"
    }
   ],
   "source": [
    "diff(ln(sin(x)^2))"
   ]
  },
  {
   "cell_type": "markdown",
   "id": "723a3696",
   "metadata": {},
   "source": [
    "Problem 6."
   ]
  },
  {
   "cell_type": "code",
   "execution_count": 9,
   "id": "10c46b67",
   "metadata": {},
   "outputs": [
    {
     "data": {
      "text/plain": [
       "(x*e^x + e^x)*e^(-x)/(x*log(5))"
      ]
     },
     "execution_count": 9,
     "metadata": {},
     "output_type": "execute_result"
    }
   ],
   "source": [
    "diff(log(x*exp(x),5))"
   ]
  },
  {
   "cell_type": "markdown",
   "id": "430c8049",
   "metadata": {},
   "source": [
    "Problem 24."
   ]
  },
  {
   "cell_type": "code",
   "execution_count": 10,
   "id": "2f87473c",
   "metadata": {},
   "outputs": [
    {
     "data": {
      "text/plain": [
       "1/(x*log(x)*log(log(x)))"
      ]
     },
     "execution_count": 10,
     "metadata": {},
     "output_type": "execute_result"
    }
   ],
   "source": [
    "diff(log(log(log(x))))"
   ]
  },
  {
   "cell_type": "markdown",
   "id": "8ab05ffb",
   "metadata": {},
   "source": [
    "Problem 26."
   ]
  },
  {
   "cell_type": "code",
   "execution_count": 17,
   "id": "fa0d4794",
   "metadata": {},
   "outputs": [
    {
     "name": "stdout",
     "output_type": "stream",
     "text": [
      "2*x*log(x) + x\n"
     ]
    },
    {
     "data": {
      "text/plain": [
       "1"
      ]
     },
     "execution_count": 17,
     "metadata": {},
     "output_type": "execute_result"
    }
   ],
   "source": [
    "dy(x) = diff(x^2*log(x))\n",
    "print(dy(x))\n",
    "dy(1)"
   ]
  },
  {
   "cell_type": "markdown",
   "id": "2d3828c1",
   "metadata": {},
   "source": [
    "The tangent line to the point is y = x-1"
   ]
  },
  {
   "cell_type": "code",
   "execution_count": 23,
   "id": "9927f957",
   "metadata": {},
   "outputs": [
    {
     "data": {
      "image/png": "[encoded data removed]",
      "text/plain": [
       "Graphics object consisting of 2 graphics primitives"
      ]
     },
     "metadata": {},
     "output_type": "display_data"
    }
   ],
   "source": [
    "show(plot(x^2*log(x), (x,0,3))+plot(x-1, (x,0,3), color=\"red\"))"
   ]
  },
  {
   "cell_type": "markdown",
   "id": "9a7df4ad",
   "metadata": {},
   "source": [
    "Problem 29"
   ]
  },
  {
   "cell_type": "code",
   "execution_count": 26,
   "id": "38711b81",
   "metadata": {},
   "outputs": [
    {
     "data": {
      "text/plain": [
       "((9*c - 4)/sqrt(9*c^2 - 8*c) + 3)/(3*c + sqrt(9*c^2 - 8*c))"
      ]
     },
     "execution_count": 26,
     "metadata": {},
     "output_type": "execute_result"
    }
   ],
   "source": [
    "var('c')\n",
    "t = log((3*c + sqrt(9*c^2 - 8*c))/2)\n",
    "diff(t,c)"
   ]
  },
  {
   "cell_type": "markdown",
   "id": "1f24995c",
   "metadata": {},
   "source": [
    "Problem 30"
   ]
  },
  {
   "cell_type": "code",
   "execution_count": 43,
   "id": "8235d769",
   "metadata": {},
   "outputs": [
    {
     "ename": "NameError",
     "evalue": "name 'm' is not defined",
     "output_type": "error",
     "traceback": [
      "\u001b[0;31m---------------------------------------------------------------------------\u001b[0m",
      "\u001b[0;31mNameError\u001b[0m                                 Traceback (most recent call last)",
      "Cell \u001b[0;32mIn [43], line 2\u001b[0m\n\u001b[1;32m      1\u001b[0m var(\u001b[38;5;124m'\u001b[39m\u001b[38;5;124mp0\u001b[39m\u001b[38;5;124m'\u001b[39m)\n\u001b[0;32m----> 2\u001b[0m g \u001b[38;5;241m=\u001b[39m \u001b[38;5;241m-\u001b[39mInteger(\u001b[38;5;241m2\u001b[39m)\u001b[38;5;241m*\u001b[39m\u001b[43mm\u001b[49m\u001b[38;5;241m*\u001b[39m(Integer(\u001b[38;5;241m1\u001b[39m)\u001b[38;5;241m-\u001b[39mp0)\u001b[38;5;241m*\u001b[39mlog(Integer(\u001b[38;5;241m1\u001b[39m)\u001b[38;5;241m-\u001b[39mp0)\u001b[38;5;241m/\u001b[39mp0\n\u001b[1;32m      3\u001b[0m diff(g,p0)\n",
      "\u001b[0;31mNameError\u001b[0m: name 'm' is not defined"
     ]
    }
   ],
   "source": [
    "var('p0',)\n",
    "g = -2*N*(1-p0)*log(1-p0)/p0\n",
    "diff(g,p0)"
   ]
  },
  {
   "cell_type": "code",
   "execution_count": null,
   "id": "9c9adcff",
   "metadata": {},
   "outputs": [],
   "source": []
  }
 ],
 "metadata": {
  "kernelspec": {
   "display_name": "SageMath 10.2",
   "language": "sage",
   "name": "sagemath"
  },
  "language_info": {
   "codemirror_mode": {
    "name": "ipython",
    "version": 3
   },
   "file_extension": ".py",
   "mimetype": "text/x-python",
   "name": "python",
   "nbconvert_exporter": "python",
   "pygments_lexer": "ipython3",
   "version": "3.11.1"
  }
 },
 "nbformat": 4,
 "nbformat_minor": 5
}
