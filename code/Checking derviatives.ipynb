{
 "cells": [
  {
   "cell_type": "markdown",
   "id": "9af9cba5",
   "metadata": {},
   "source": [
    "For some more difficult derivatives, you may wish to check your work.\n",
    "\n",
    "If you haven't installed SageMath, or don't want to, you can use the online version [CoCalc](https://www.sagemath.org/notebook-vs-cloud.html) (you can make a free user account). Note that other courses in the math department use SageMath so there is a benefit to learning this particular software/syntax.\n",
    "\n",
    "\n",
    "Below I show how to do this with SageMath. Let's start with something easy:"
   ]
  },
  {
   "cell_type": "code",
   "execution_count": 1,
   "id": "e5ed95ad",
   "metadata": {},
   "outputs": [
    {
     "data": {
      "text/plain": [
       "-sin(x)"
      ]
     },
     "execution_count": 1,
     "metadata": {},
     "output_type": "execute_result"
    }
   ],
   "source": [
    "diff(cos(x))"
   ]
  },
  {
   "cell_type": "markdown",
   "id": "703c1388",
   "metadata": {},
   "source": [
    "How about something more difficult, i.e. with a lot of chain rules:"
   ]
  },
  {
   "cell_type": "code",
   "execution_count": 2,
   "id": "85deea2d",
   "metadata": {},
   "outputs": [
    {
     "data": {
      "text/plain": [
       "-2*x*e^(cos(x^2))*sin(x^2)"
      ]
     },
     "execution_count": 2,
     "metadata": {},
     "output_type": "execute_result"
    }
   ],
   "source": [
    "f = exp(cos(x^2))\n",
    "diff(f)"
   ]
  },
  {
   "cell_type": "markdown",
   "id": "40bcb74f",
   "metadata": {},
   "source": [
    "Let's try to piece through that solution. Let $f = exp(u)$; $u = cos(w)$; and $w = x^2$. Then,\n",
    "\n",
    "$\\frac{df}{dx} = \\left.\\frac{df}{du}\\right|_{u=cos(x^2)} \\cdot \\left.\\frac{du}{dw}\\right|_{w=x^2} \\cdot \\frac{dw}{dx}$ where:\n",
    "\n",
    "$\\left.\\frac{df}{du}\\right|_{u=cos(x^2)} = exp(cos(x^2))$,\n",
    "\n",
    "$\\left.\\frac{du}{dw}\\right|_{w=x^2} = -sin(x^2)$ and,\n",
    "\n",
    "$\\frac{dw}{dx} = 2 x$"
   ]
  },
  {
   "cell_type": "markdown",
   "id": "0a42aa20",
   "metadata": {},
   "source": [
    "What if we want to find the slope of the tangent line to $y = 3 + 4 x^2 - 2x^3$ at $x=1$? The slope of the tanget line is $\\left. \\frac{dy}{dx}\\right|_{x=1}$"
   ]
  },
  {
   "cell_type": "code",
   "execution_count": 40,
   "id": "d1f44a6e",
   "metadata": {},
   "outputs": [
    {
     "data": {
      "text/plain": [
       "6"
      ]
     },
     "execution_count": 40,
     "metadata": {},
     "output_type": "execute_result"
    }
   ],
   "source": [
    "var('x')\n",
    "y(x)=3+4*x^2-2*x\n",
    "dy=diff(y,x)\n",
    "dy(1)"
   ]
  },
  {
   "cell_type": "markdown",
   "id": "54fccd5e",
   "metadata": {},
   "source": [
    "We can solve implicit differentiation problems too, but you will need to remember to define y as function of x, and to use the double equals `==`. This is problem 22 in Section 3.5 on p214 of Calculus by Stewart et al. 9 Ed."
   ]
  },
  {
   "cell_type": "code",
   "execution_count": 44,
   "id": "d09843e7",
   "metadata": {},
   "outputs": [
    {
     "data": {
      "text/plain": [
       "-2*(y(x)*diff(y(x), x) + x)*sin(x^2 + y(x)^2) == x*e^y(x)*diff(y(x), x) + e^y(x)"
      ]
     },
     "execution_count": 44,
     "metadata": {},
     "output_type": "execute_result"
    }
   ],
   "source": [
    "y=function('y')(x)\n",
    "diff(cos(x^2+y^2) == x*exp(y),x)"
   ]
  },
  {
   "cell_type": "markdown",
   "id": "72f0bc5d",
   "metadata": {},
   "source": [
    "That output is quite unreadable, just remember that `diff(y(x), x)` is $\\frac{dy}{dx} = y'$ that writing $y(x) = y$ makes this problem much more readable too. Substituting this more readable notation, we can find that the implicit differention gives:\n",
    "\n",
    "$- 2(y y' + x)\\sin(x^2+y^2) = xe^y y' + e^y$\n",
    "\n",
    "This problem requires implicit differentiation (where you need to observed that y is a function of x), and additionally has the chain rule on the LHS, and the product rule on the RHS."
   ]
  }
 ],
 "metadata": {
  "kernelspec": {
   "display_name": "SageMath 10.2",
   "language": "sage",
   "name": "sagemath"
  },
  "language_info": {
   "codemirror_mode": {
    "name": "ipython",
    "version": 3
   },
   "file_extension": ".py",
   "mimetype": "text/x-python",
   "name": "python",
   "nbconvert_exporter": "python",
   "pygments_lexer": "ipython3",
   "version": "3.11.1"
  }
 },
 "nbformat": 4,
 "nbformat_minor": 5
}
