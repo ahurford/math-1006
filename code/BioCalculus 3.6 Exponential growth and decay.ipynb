{
 "cells": [
  {
   "cell_type": "markdown",
   "id": "a7de2775",
   "metadata": {},
   "source": [
    "Problem 1"
   ]
  },
  {
   "cell_type": "code",
   "execution_count": 6,
   "id": "cc9e6f60",
   "metadata": {},
   "outputs": [
    {
     "data": {
      "text/plain": [
       "234.990991780370"
      ]
     },
     "execution_count": 6,
     "metadata": {},
     "output_type": "execute_result"
    }
   ],
   "source": [
    "2*exp(0.7944*6)"
   ]
  },
  {
   "cell_type": "markdown",
   "id": "70471945",
   "metadata": {},
   "source": [
    "Problem 2"
   ]
  },
  {
   "cell_type": "code",
   "execution_count": 22,
   "id": "87ba8a69",
   "metadata": {},
   "outputs": [
    {
     "name": "stdout",
     "output_type": "stream",
     "text": [
      "1.00663296000000e9\n",
      "2.09323439424814e9\n",
      "2.79360726131364\n"
     ]
    },
    {
     "data": {
      "text/plain": [
       "20267.6415094716"
      ]
     },
     "execution_count": 22,
     "metadata": {},
     "output_type": "execute_result"
    }
   ],
   "source": [
    "k=log(8)\n",
    "var('y')\n",
    "def y(t):\n",
    "    return 60*exp(log(8)*t)\n",
    "print(n(y(8)))\n",
    "print(n(log(8)*y(8)))\n",
    "print(n(log(20000/60)/log(8)))\n",
    "y(2.8)"
   ]
  },
  {
   "cell_type": "markdown",
   "id": "046bf7ab",
   "metadata": {},
   "source": [
    "Problem 3"
   ]
  },
  {
   "cell_type": "code",
   "execution_count": 29,
   "id": "a2e7504d",
   "metadata": {},
   "outputs": [
    {
     "name": "stdout",
     "output_type": "stream",
     "text": [
      "7408.80000000000\n",
      "10632.2542309635\n",
      "3.20898881204204\n"
     ]
    }
   ],
   "source": [
    "var('y')\n",
    "def y(t):\n",
    "    return 100*exp(log(4.2)*t)\n",
    "print(n(y(3)))\n",
    "print(n(log(4.2)*y(3)))\n",
    "print(n(log(10000/100)/log(4.2)))"
   ]
  },
  {
   "cell_type": "markdown",
   "id": "26d32473",
   "metadata": {},
   "source": [
    "Problem 11"
   ]
  },
  {
   "cell_type": "code",
   "execution_count": 5,
   "id": "2089ae90",
   "metadata": {},
   "outputs": [
    {
     "data": {
      "text/plain": [
       "3.69182990996043e-3573"
      ]
     },
     "execution_count": 5,
     "metadata": {},
     "output_type": "execute_result"
    }
   ],
   "source": [
    "k = log(0.5)/5730\n",
    "exp(k*68*10^6)"
   ]
  },
  {
   "cell_type": "code",
   "execution_count": null,
   "id": "be83cbd0",
   "metadata": {},
   "outputs": [],
   "source": []
  }
 ],
 "metadata": {
  "kernelspec": {
   "display_name": "SageMath 10.2",
   "language": "sage",
   "name": "sagemath"
  },
  "language_info": {
   "codemirror_mode": {
    "name": "ipython",
    "version": 3
   },
   "file_extension": ".py",
   "mimetype": "text/x-python",
   "name": "python",
   "nbconvert_exporter": "python",
   "pygments_lexer": "ipython3",
   "version": "3.11.1"
  }
 },
 "nbformat": 4,
 "nbformat_minor": 5
}
