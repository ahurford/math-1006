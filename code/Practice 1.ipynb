{
 "cells": [
  {
   "cell_type": "markdown",
   "id": "876a5cd4",
   "metadata": {},
   "source": [
    "**Introduction**\n",
    "Here are I trying to learn how to use [Sage Math](https://doc.sagemath.org/html/en/tutorial/) to help me with some Calculus homework problems.\n",
    "\n",
    "I am cutting and pasting form the [Guided Tour](https://doc.sagemath.org/html/en/tutorial/tour.html) to see if I can achieve the same results on my own computer.\n",
    "\n",
    "- shift + return to execute a coding block\n",
    "\n",
    "- when coding, the block you last ran is what is retained in the kernel."
   ]
  },
  {
   "cell_type": "markdown",
   "id": "8e0df1c6",
   "metadata": {},
   "source": [
    "**Plotting a function.** Sage Math can treat $x$ as a symbolic variable, which means that is does not necessarily need to be assigned a numerical value, $x$ can just be understood as a variable, i.e. as in the function $x^2cos(x)$.\n",
    "\n",
    "- we need to provide the information to Sage Math that $x$ is a symbolic (and not numerical value). Then we can make the graph.\n",
    "- I named the function $f(x)$, `f` in the code (because I would like to use this same function later without having to type it all over again. This avoids making a typo too!)"
   ]
  },
  {
   "cell_type": "code",
   "execution_count": 67,
   "id": "d7b30de6",
   "metadata": {},
   "outputs": [
    {
     "data": {
      "image/png": "[encoded data removed]",
      "text/plain": [
       "Graphics object consisting of 1 graphics primitive"
      ]
     },
     "execution_count": 67,
     "metadata": {},
     "output_type": "execute_result"
    }
   ],
   "source": [
    "x = var('x')\n",
    "f = x^2*cos(x)\n",
    "plot(f,(x,-10,10))"
   ]
  },
  {
   "cell_type": "markdown",
   "id": "bd821182",
   "metadata": {},
   "source": [
    "**Checking derivatives**. The variable, $x$, needs to be symbolic. I already stated that $x$ was a symbolic variable above, so I am not doing this again, I will just take the derivative.\n",
    "\n",
    "Remember $f(x) = x^2cos(x)$. Just in case we forgot, I printed $f(x) =$ `f`, so that we can check our work:"
   ]
  },
  {
   "cell_type": "code",
   "execution_count": 68,
   "id": "2c3ba1f3",
   "metadata": {},
   "outputs": [
    {
     "name": "stdout",
     "output_type": "stream",
     "text": [
      "x^2*cos(x)\n",
      "-x^2*sin(x) + 2*x*cos(x)\n"
     ]
    }
   ],
   "source": [
    "print(f)\n",
    "df=diff(f,x)\n",
    "print(df)"
   ]
  },
  {
   "cell_type": "markdown",
   "id": "56ec02df",
   "metadata": {},
   "source": [
    "**Evaluating the function at a value**. If I want to verify my graph, I can evaluate $f$ for some numerical values of $x$.\n",
    "\n",
    "- I change $x$ to be a numerical value, not a symbolic variable\n",
    "- I have to make a new function, that allows $x$ to be number\n",
    "- To verify my plot, I need the numerical value, which requires the `n()` function"
   ]
  },
  {
   "cell_type": "code",
   "execution_count": 69,
   "id": "27bd9bf2",
   "metadata": {},
   "outputs": [
    {
     "name": "stdout",
     "output_type": "stream",
     "text": [
      "25*cos(5)\n"
     ]
    },
    {
     "data": {
      "text/plain": [
       "7.09155463658066"
      ]
     },
     "execution_count": 69,
     "metadata": {},
     "output_type": "execute_result"
    }
   ],
   "source": [
    "x = 5\n",
    "num_f=x^2*cos(x)\n",
    "print(num_f)\n",
    "n(num_f)"
   ]
  },
  {
   "cell_type": "markdown",
   "id": "57f9efbc",
   "metadata": {},
   "source": [
    "This looks about right, that $f(5) = 7.09$..."
   ]
  },
  {
   "cell_type": "markdown",
   "id": "9a4dfb40",
   "metadata": {},
   "source": [
    "**Evaluating the derivative at a value.** The graph shows an increasing slope at $x=5$. Can I verify this by finding $f'(5) > 0$?\n",
    "\n",
    "Note: that unless you have been running coding blocks out of order, $x=5$."
   ]
  },
  {
   "cell_type": "code",
   "execution_count": 70,
   "id": "f21fbf5a",
   "metadata": {},
   "outputs": [
    {
     "name": "stdout",
     "output_type": "stream",
     "text": [
      "10*cos(5) - 25*sin(5)\n",
      "26.8097287212107\n"
     ]
    }
   ],
   "source": [
    "num_df = -x^2*sin(x) + 2*x*cos(x)\n",
    "print(num_df)\n",
    "print(n(num_df))"
   ]
  },
  {
   "cell_type": "markdown",
   "id": "04391c97",
   "metadata": {},
   "source": [
    "**Finding maxima.** It is tempting to want to find the maximum and minimum values of that function.\n",
    "\n",
    "- Use the symbolic value of $x$,\n",
    "- the symbolic version of the derivative $f'(x)$=`df`\n",
    "- and the "
   ]
  },
  {
   "cell_type": "code",
   "execution_count": 87,
   "id": "e7c65941",
   "metadata": {},
   "outputs": [
    {
     "name": "stdout",
     "output_type": "stream",
     "text": [
      "-x^2*sin(x) + 2*x*cos(x)\n",
      "6.578333732722339\n"
     ]
    }
   ],
   "source": [
    "x = var('x')\n",
    "print(df)\n",
    "max_1=find_root(df, 5,8)\n",
    "print(max_1)"
   ]
  },
  {
   "cell_type": "code",
   "execution_count": 92,
   "id": "21570b9e",
   "metadata": {},
   "outputs": [
    {
     "name": "stdout",
     "output_type": "stream",
     "text": [
      "41.403242210886404\n",
      "8.881784197001252e-15\n"
     ]
    }
   ],
   "source": [
    "x=max_1\n",
    "num_f = x^2*cos(x)\n",
    "num_df = -x^2*sin(x) + 2*x*cos(x)\n",
    "print(num_f)\n",
    "print(num_df)"
   ]
  },
  {
   "cell_type": "markdown",
   "id": "322aca29",
   "metadata": {},
   "source": [
    "The above calculations show that the derivative of $f(x)$ at $x = 6.57...$ is very nearly zero ($<10^{-14}$). $f(6.57)  = 41.4...$ which is consistent with that maximum shown on the graph in the range $5 < x < 8$.  "
   ]
  }
 ],
 "metadata": {
  "kernelspec": {
   "display_name": "SageMath 10.2",
   "language": "sage",
   "name": "sagemath"
  },
  "language_info": {
   "codemirror_mode": {
    "name": "ipython",
    "version": 3
   },
   "file_extension": ".py",
   "mimetype": "text/x-python",
   "name": "python",
   "nbconvert_exporter": "python",
   "pygments_lexer": "ipython3",
   "version": "3.11.1"
  }
 },
 "nbformat": 4,
 "nbformat_minor": 5
}
