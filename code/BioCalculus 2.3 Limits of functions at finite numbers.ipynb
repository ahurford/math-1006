{
 "cells": [
  {
   "cell_type": "markdown",
   "id": "ba61e354",
   "metadata": {},
   "source": [
    "p162 of BioCalculus by Stewart and Day. A function that approaches 4 in the limit $x \\to 2$"
   ]
  },
  {
   "cell_type": "code",
   "execution_count": 55,
   "id": "e88d6faf",
   "metadata": {},
   "outputs": [],
   "source": [
    "var('a')\n",
    "def a(x):\n",
    "    return x^2 - x + 2"
   ]
  },
  {
   "cell_type": "code",
   "execution_count": 56,
   "id": "652f4a90",
   "metadata": {},
   "outputs": [
    {
     "data": {
      "text/plain": [
       "[(1, 2),\n",
       " (1.50000000000000, 2.75000000000000),\n",
       " (1.80000000000000, 3.44000000000000),\n",
       " (1.90000000000000, 3.71000000000000),\n",
       " (1.95000000000000, 3.85250000000000),\n",
       " (1.99000000000000, 3.97010000000000),\n",
       " (1.99500000000000, 3.98502500000000),\n",
       " (1.99900000000000, 3.99700100000000)]"
      ]
     },
     "execution_count": 56,
     "metadata": {},
     "output_type": "execute_result"
    }
   ],
   "source": [
    "xvec = [1, 1.5, 1.8, 1.9, 1.95, 1.99, 1.995, 1.999]\n",
    "data=[(x,a(x)) for x in xvec]\n",
    "data"
   ]
  },
  {
   "cell_type": "code",
   "execution_count": 57,
   "id": "dd8e4b13",
   "metadata": {},
   "outputs": [
    {
     "data": {
      "text/plain": [
       "[(3, 8),\n",
       " (2.50000000000000, 5.75000000000000),\n",
       " (2.20000000000000, 4.64000000000000),\n",
       " (2.10000000000000, 4.31000000000000),\n",
       " (2.05000000000000, 4.15250000000000),\n",
       " (2.01000000000000, 4.03010000000000),\n",
       " (2.00500000000000, 4.01502500000000),\n",
       " (2.00100000000000, 4.00300100000000)]"
      ]
     },
     "execution_count": 57,
     "metadata": {},
     "output_type": "execute_result"
    }
   ],
   "source": [
    "xvec = [3, 2.5, 2.2, 2.1, 2.05, 2.01, 2.005, 2.001]\n",
    "data2=[(x,a(x)) for x in xvec]\n",
    "data2"
   ]
  },
  {
   "cell_type": "code",
   "execution_count": 58,
   "id": "012287dc",
   "metadata": {},
   "outputs": [
    {
     "data": {
      "image/png": "[encoded data removed]",
      "text/plain": [
       "Graphics object consisting of 1 graphics primitive"
      ]
     },
     "execution_count": 58,
     "metadata": {},
     "output_type": "execute_result"
    }
   ],
   "source": [
    "plot(a,(x,-1,3))"
   ]
  },
  {
   "cell_type": "markdown",
   "id": "d294fbd0",
   "metadata": {},
   "source": [
    "EXAMPLE 3 on p164. Limit $x \\to 0 = 1/6$ but calculator can give erroneous values near 0 due to machine precision (the number of digits the calculator is capable of carrying). Sage Math is showing better precision (up to around $10^{-7}$)"
   ]
  },
  {
   "cell_type": "code",
   "execution_count": 85,
   "id": "f6c49fc1",
   "metadata": {},
   "outputs": [],
   "source": [
    "var('a')\n",
    "def a(t):\n",
    "    return ((t^2 +9)^.5 - 3)/t^2"
   ]
  },
  {
   "cell_type": "code",
   "execution_count": 86,
   "id": "90114ed0",
   "metadata": {},
   "outputs": [
    {
     "data": {
      "text/plain": [
       "[(1, 0.162277660168380),\n",
       " (0.500000000000000, 0.165525060596439),\n",
       " (0.100000000000000, 0.166620396072670),\n",
       " (0.0500000000000000, 0.166655094199797),\n",
       " (0.0100000000000000, 0.166666203704757)]"
      ]
     },
     "execution_count": 86,
     "metadata": {},
     "output_type": "execute_result"
    }
   ],
   "source": [
    "tvec = [1,.5, .1, .05, .01]\n",
    "data=[(t,a(t)) for t in tvec]\n",
    "data"
   ]
  },
  {
   "cell_type": "code",
   "execution_count": 96,
   "id": "55f09c72",
   "metadata": {},
   "outputs": [
    {
     "data": {
      "text/plain": [
       "[(0.000500000000000000, 0.166666664469517),\n",
       " (0.000100000000000000, 0.166666680456728),\n",
       " (0.0000500000000000000, 0.166666680456728),\n",
       " (0.0000100000000000000, 0.166666680456728),\n",
       " (1/100000000, 0.000000000000000)]"
      ]
     },
     "execution_count": 96,
     "metadata": {},
     "output_type": "execute_result"
    }
   ],
   "source": [
    "tvec2 = [.0005, .0001, .00005, .00001, 10^(-8)]\n",
    "data=[(t,a(t)) for t in tvec2]\n",
    "data"
   ]
  },
  {
   "cell_type": "markdown",
   "id": "3284f25c",
   "metadata": {},
   "source": [
    "EXAMPLE 4 on p115"
   ]
  },
  {
   "cell_type": "code",
   "execution_count": 97,
   "id": "4863cedb",
   "metadata": {},
   "outputs": [],
   "source": [
    "var('a')\n",
    "def a(x):\n",
    "    return sin(pi/x)"
   ]
  },
  {
   "cell_type": "code",
   "execution_count": 98,
   "id": "359b374e",
   "metadata": {},
   "outputs": [
    {
     "data": {
      "text/plain": [
       "1"
      ]
     },
     "execution_count": 98,
     "metadata": {},
     "output_type": "execute_result"
    }
   ],
   "source": [
    "plot(a(x), (x,-pi/2,pi/2))\n",
    "a(2/5)"
   ]
  },
  {
   "cell_type": "code",
   "execution_count": null,
   "id": "7fc9484d",
   "metadata": {},
   "outputs": [],
   "source": []
  }
 ],
 "metadata": {
  "kernelspec": {
   "display_name": "SageMath 10.2",
   "language": "sage",
   "name": "sagemath"
  },
  "language_info": {
   "codemirror_mode": {
    "name": "ipython",
    "version": 3
   },
   "file_extension": ".py",
   "mimetype": "text/x-python",
   "name": "python",
   "nbconvert_exporter": "python",
   "pygments_lexer": "ipython3",
   "version": "3.11.1"
  }
 },
 "nbformat": 4,
 "nbformat_minor": 5
}
